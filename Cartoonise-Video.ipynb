{
  "cells": [
    {
      "cell_type": "markdown",
      "metadata": {
        "id": "vGYqIX1h7QWO"
      },
      "source": [
        "# Cartoonise-Video"
      ]
    },
    {
      "cell_type": "markdown",
      "metadata": {
        "id": "E_76AOCx7QWj"
      },
      "source": [
        "### Project to cartoonise any video with Image processing."
      ]
    },
    {
      "cell_type": "markdown",
      "metadata": {
        "id": "IBwQfxvf7QWl"
      },
      "source": [
        "### Approaches used :\n",
        "The file contains the code for simple cartoonising the image with the use of Bilateral Filtering and edge detection using the openCV. Here first the image's edge are detected and then bilateral filter are applied to it for its smoothening. Finally both the images are merged into one by taking the inverse Binary mask of the edges."
      ]
    },
    {
      "cell_type": "code",
      "execution_count": null,
      "metadata": {
        "id": "SURqbLJF7QWn"
      },
      "outputs": [],
      "source": [
        "import cv2\n",
        "import numpy"
      ]
    },
    {
      "cell_type": "code",
      "execution_count": null,
      "metadata": {
        "id": "SvYHs0lm7QWr"
      },
      "outputs": [],
      "source": [
        "#Initiating the camera\n",
        "cap= cv2.VideoCapture(0)"
      ]
    },
    {
      "cell_type": "code",
      "execution_count": null,
      "metadata": {
        "id": "S1aTFg0Z7QWt"
      },
      "outputs": [],
      "source": [
        "#Infinite loop for capturing the frames\n",
        "while(True):\n",
        "    ret,frame = cap.read()\n",
        "\n",
        "    #converting the image to grayscale for edge detection\n",
        "    image_bw = cv2.cvtColor(frame,cv2.COLOR_BGR2GRAY)\n",
        "    \n",
        "    # Applying the bilateral filter for smoothening the image without edge loss  \n",
        "    image_bw = cv2.bilateralFilter(image_bw, -1,10, 1)\n",
        "    image_bw = cv2.GaussianBlur(image_bw, (5,5), 0)\n",
        "    \n",
        "    #Getting the edges of the image using Laplacian\n",
        "    edges = cv2.Laplacian(image_bw,-1,ksize=5)\n",
        "    \n",
        "    #Threshholding the edges for the mask to be blended\n",
        "    _,mask = cv2.threshold(edges,30, 255, cv2.THRESH_BINARY_INV)\n",
        "\n",
        "    #taking the impurities out of the mask using median blur\n",
        "    for i in range(13):\n",
        "        \n",
        "        #Here the kernel size can be varied according to the resolution of camera \n",
        "        mask= cv2.medianBlur(mask,3)\n",
        "\n",
        "    #Eroding and dilating the mask for making it look realistic \n",
        "    kernel = numpy.ones((3,3),numpy.uint8)\n",
        "    mask = cv2.erode(mask, kernel)\n",
        "    mask =cv2.erode(mask, kernel)\n",
        "    mask = cv2.dilate(mask, kernel)\n",
        "\n",
        "    #Final task of splitting the frame into three layers(b,g,r) and application of mask\n",
        "    image_b, image_g, image_r = cv2.split(frame)\n",
        "\n",
        "    final_b = cv2.bitwise_and(image_b, mask)\n",
        "    final_g = cv2.bitwise_and(image_g, mask)\n",
        "    final_r = cv2.bitwise_and(image_r, mask)\n",
        "\n",
        "    final = cv2.merge((final_b,final_g,final_r))\n",
        "\n",
        "    cv2.imshow(\"fine\", final)\n",
        "    \n",
        "    #Exiting the application on press of q\n",
        "    if(cv2.waitKey(2)==ord('q')):\n",
        "        break"
      ]
    },
    {
      "cell_type": "code",
      "execution_count": null,
      "metadata": {
        "id": "S0HAN7CW7QWx"
      },
      "outputs": [],
      "source": [
        "cap.release()\n",
        "cv2.destroyAllWindows()"
      ]
    }
  ],
  "metadata": {
    "kernelspec": {
      "display_name": "Python 3",
      "language": "python",
      "name": "python3"
    },
    "language_info": {
      "codemirror_mode": {
        "name": "ipython",
        "version": 3
      },
      "file_extension": ".py",
      "mimetype": "text/x-python",
      "name": "python",
      "nbconvert_exporter": "python",
      "pygments_lexer": "ipython3",
      "version": "3.8.5"
    },
    "colab": {
      "provenance": []
    }
  },
  "nbformat": 4,
  "nbformat_minor": 0
}